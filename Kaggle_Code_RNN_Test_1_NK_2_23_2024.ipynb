{
  "nbformat": 4,
  "nbformat_minor": 0,
  "metadata": {
    "colab": {
      "provenance": [],
      "mount_file_id": "1voNxETkIo-5rNiZxn5JcJBf03vLYOyEO",
      "authorship_tag": "ABX9TyOpKvrkt+eAq3lp6cJffy26",
      "include_colab_link": true
    },
    "kernelspec": {
      "name": "python3",
      "display_name": "Python 3"
    },
    "language_info": {
      "name": "python"
    }
  },
  "cells": [
    {
      "cell_type": "markdown",
      "metadata": {
        "id": "view-in-github",
        "colab_type": "text"
      },
      "source": [
        "<a href=\"https://colab.research.google.com/github/FredLongo/MLDL_Project/blob/main/Kaggle_Code_RNN_Test_1_NK_2_23_2024.ipynb\" target=\"_parent\"><img src=\"https://colab.research.google.com/assets/colab-badge.svg\" alt=\"Open In Colab\"/></a>"
      ]
    },
    {
      "cell_type": "code",
      "execution_count": 35,
      "metadata": {
        "colab": {
          "base_uri": "https://localhost:8080/"
        },
        "id": "_Lb6P7c60Vju",
        "outputId": "f73b2a50-ec3b-4cbb-c97e-293e5dec5b83"
      },
      "outputs": [
        {
          "output_type": "stream",
          "name": "stdout",
          "text": [
            "[[0.01679597 0.01722658 0.01679597 ... 0.03226683 0.03226683 0.03357657]\n",
            " [0.01722658 0.01679597 0.01679597 ... 0.03226683 0.03357657 0.03510418]\n",
            " [0.01679597 0.01679597 0.01657042 ... 0.03357657 0.03510418 0.03314597]\n",
            " ...\n",
            " [0.65382811 0.66313216 0.66602846 ... 0.57926762 0.58175382 0.59254446]\n",
            " [0.66313216 0.66602846 0.6594413  ... 0.58175382 0.59254446 0.60625703]\n",
            " [0.66602846 0.6594413  0.66274769 ... 0.59254446 0.60625703 0.61217779]]\n",
            "[0.03510418 0.03314597 0.03270512 ... 0.60625703 0.61217779 0.60692344]\n"
          ]
        }
      ],
      "source": [
        "#Code obtained from Kaggle to test RNNs\n",
        "#Source: https://www.kaggle.com/code/rafetcan/recurrent-neural-n-rnn-tutorial-for-beginners\n",
        "#Code has a prediction for the closing price, but only usings previous closing prices to predict.\n",
        "\n",
        "import pandas as pd\n",
        "\n",
        "#Load Data\n",
        "data = pd.read_csv(\"/content/drive/MyDrive/adm.us.txt\")\n",
        "\n",
        "data.head()\n",
        "\n",
        "training_size = int(len(data)*0.80)\n",
        "data_len = len(data)\n",
        "\n",
        "train, test = data[0:training_size],data[training_size:data_len]\n",
        "\n",
        "import numpy as np\n",
        "\n",
        "#Normalize Data\n",
        "# the part of data that we will use as training.\n",
        "train = train.loc[:, [\"Close\"]].values\n",
        "\n",
        "from sklearn.preprocessing import MinMaxScaler\n",
        "scaler = MinMaxScaler(feature_range=(0, 1))\n",
        "train_scaled = scaler.fit_transform(train)\n",
        "\n",
        "end_len = len(train_scaled)\n",
        "X_train = []\n",
        "y_train = []\n",
        "timesteps = 40\n",
        "\n",
        "for i in range(timesteps, end_len):\n",
        "    X_train.append(train_scaled[i - timesteps:i, 0])\n",
        "    y_train.append(train_scaled[i, 0])\n",
        "X_train, y_train = np.array(X_train), np.array(y_train)\n",
        "\n",
        "print(X_train)\n",
        "print(y_train)"
      ]
    },
    {
      "cell_type": "code",
      "source": [
        "X_train = np.reshape(X_train, (X_train.shape[0], X_train.shape[1], 1))\n",
        "print(\"X_train --> \", X_train.shape)\n",
        "print(\"y_train shape --> \", y_train.shape)"
      ],
      "metadata": {
        "colab": {
          "base_uri": "https://localhost:8080/"
        },
        "id": "EqDhUH3r1-CO",
        "outputId": "d24ca315-d93c-4a9b-e6cf-1d92a7a3a907"
      },
      "execution_count": 36,
      "outputs": [
        {
          "output_type": "stream",
          "name": "stdout",
          "text": [
            "X_train -->  (6940, 40, 1)\n",
            "y_train shape -->  (6940,)\n"
          ]
        }
      ]
    },
    {
      "cell_type": "code",
      "source": [
        "from keras.models import Sequential\n",
        "from keras.layers import Dense\n",
        "from keras.layers import SimpleRNN\n",
        "from keras.layers import Dropout"
      ],
      "metadata": {
        "id": "umLnz7cM09I4"
      },
      "execution_count": 37,
      "outputs": []
    },
    {
      "cell_type": "code",
      "source": [
        "regressor = Sequential()\n",
        "\n",
        "regressor.add(SimpleRNN(units = 50, activation = \"tanh\", return_sequences = True, input_shape = (X_train.shape[1],1)))\n",
        "regressor.add(Dropout(0.2))\n",
        "\n",
        "regressor.add(SimpleRNN(units = 50, activation = \"tanh\", return_sequences = True))\n",
        "regressor.add(Dropout(0.2))\n",
        "\n",
        "regressor.add(SimpleRNN(units = 50, activation = \"tanh\", return_sequences = True))\n",
        "regressor.add(Dropout(0.2))\n",
        "\n",
        "regressor.add(SimpleRNN(units = 50))\n",
        "regressor.add(Dropout(0.2))\n",
        "\n",
        "regressor.add(Dense(units = 1))"
      ],
      "metadata": {
        "id": "dQgtSs8-2G5o"
      },
      "execution_count": 38,
      "outputs": []
    },
    {
      "cell_type": "code",
      "source": [
        "regressor.compile(optimizer= \"adam\", loss = \"mean_squared_error\")"
      ],
      "metadata": {
        "id": "Cwl9AubN2M8v"
      },
      "execution_count": 39,
      "outputs": []
    },
    {
      "cell_type": "code",
      "source": [
        "epochs = 100\n",
        "batch_size = 20\n",
        "regressor.fit(X_train, y_train, epochs = epochs, batch_size = batch_size)"
      ],
      "metadata": {
        "colab": {
          "base_uri": "https://localhost:8080/"
        },
        "id": "u_vtkj852RAB",
        "outputId": "c6dc4688-a410-49c2-f4f6-260c69e55faa"
      },
      "execution_count": 40,
      "outputs": [
        {
          "output_type": "stream",
          "name": "stdout",
          "text": [
            "Epoch 1/100\n",
            "347/347 [==============================] - 18s 38ms/step - loss: 0.1379\n",
            "Epoch 2/100\n",
            "347/347 [==============================] - 13s 37ms/step - loss: 0.0214\n",
            "Epoch 3/100\n",
            "347/347 [==============================] - 13s 38ms/step - loss: 0.0093\n",
            "Epoch 4/100\n",
            "347/347 [==============================] - 14s 41ms/step - loss: 0.0055\n",
            "Epoch 5/100\n",
            "347/347 [==============================] - 13s 39ms/step - loss: 0.0038\n",
            "Epoch 6/100\n",
            "347/347 [==============================] - 14s 40ms/step - loss: 0.0029\n",
            "Epoch 7/100\n",
            "347/347 [==============================] - 13s 39ms/step - loss: 0.0023\n",
            "Epoch 8/100\n",
            "347/347 [==============================] - 13s 38ms/step - loss: 0.0021\n",
            "Epoch 9/100\n",
            "347/347 [==============================] - 14s 39ms/step - loss: 0.0018\n",
            "Epoch 10/100\n",
            "347/347 [==============================] - 14s 39ms/step - loss: 0.0015\n",
            "Epoch 11/100\n",
            "347/347 [==============================] - 13s 39ms/step - loss: 0.0014\n",
            "Epoch 12/100\n",
            "347/347 [==============================] - 14s 40ms/step - loss: 0.0012\n",
            "Epoch 13/100\n",
            "347/347 [==============================] - 14s 40ms/step - loss: 0.0012\n",
            "Epoch 14/100\n",
            "347/347 [==============================] - 16s 46ms/step - loss: 0.0011\n",
            "Epoch 15/100\n",
            "347/347 [==============================] - 14s 39ms/step - loss: 0.0011\n",
            "Epoch 16/100\n",
            "347/347 [==============================] - 14s 40ms/step - loss: 0.0010\n",
            "Epoch 17/100\n",
            "347/347 [==============================] - 14s 39ms/step - loss: 9.8596e-04\n",
            "Epoch 18/100\n",
            "347/347 [==============================] - 14s 39ms/step - loss: 0.0010\n",
            "Epoch 19/100\n",
            "347/347 [==============================] - 13s 38ms/step - loss: 9.2339e-04\n",
            "Epoch 20/100\n",
            "347/347 [==============================] - 13s 38ms/step - loss: 8.7560e-04\n",
            "Epoch 21/100\n",
            "347/347 [==============================] - 13s 38ms/step - loss: 0.0010\n",
            "Epoch 22/100\n",
            "347/347 [==============================] - 13s 38ms/step - loss: 8.7401e-04\n",
            "Epoch 23/100\n",
            "347/347 [==============================] - 13s 38ms/step - loss: 8.4790e-04\n",
            "Epoch 24/100\n",
            "347/347 [==============================] - 14s 39ms/step - loss: 8.3414e-04\n",
            "Epoch 25/100\n",
            "347/347 [==============================] - 13s 39ms/step - loss: 8.5236e-04\n",
            "Epoch 26/100\n",
            "347/347 [==============================] - 14s 39ms/step - loss: 7.8985e-04\n",
            "Epoch 27/100\n",
            "347/347 [==============================] - 14s 40ms/step - loss: 8.1066e-04\n",
            "Epoch 28/100\n",
            "347/347 [==============================] - 14s 39ms/step - loss: 7.9722e-04\n",
            "Epoch 29/100\n",
            "347/347 [==============================] - 14s 40ms/step - loss: 9.6546e-04\n",
            "Epoch 30/100\n",
            "347/347 [==============================] - 14s 40ms/step - loss: 8.3112e-04\n",
            "Epoch 31/100\n",
            "347/347 [==============================] - 14s 40ms/step - loss: 7.5688e-04\n",
            "Epoch 32/100\n",
            "347/347 [==============================] - 14s 39ms/step - loss: 9.2994e-04\n",
            "Epoch 33/100\n",
            "347/347 [==============================] - 13s 39ms/step - loss: 8.3140e-04\n",
            "Epoch 34/100\n",
            "347/347 [==============================] - 16s 45ms/step - loss: 8.4215e-04\n",
            "Epoch 35/100\n",
            "347/347 [==============================] - 14s 40ms/step - loss: 8.4383e-04\n",
            "Epoch 36/100\n",
            "347/347 [==============================] - 14s 39ms/step - loss: 7.1192e-04\n",
            "Epoch 37/100\n",
            "347/347 [==============================] - 14s 39ms/step - loss: 9.1043e-04\n",
            "Epoch 38/100\n",
            "347/347 [==============================] - 14s 39ms/step - loss: 8.2172e-04\n",
            "Epoch 39/100\n",
            "347/347 [==============================] - 14s 39ms/step - loss: 7.8537e-04\n",
            "Epoch 40/100\n",
            "347/347 [==============================] - 13s 39ms/step - loss: 8.0147e-04\n",
            "Epoch 41/100\n",
            "347/347 [==============================] - 13s 39ms/step - loss: 8.1501e-04\n",
            "Epoch 42/100\n",
            "347/347 [==============================] - 13s 38ms/step - loss: 6.9530e-04\n",
            "Epoch 43/100\n",
            "347/347 [==============================] - 14s 39ms/step - loss: 7.2047e-04\n",
            "Epoch 44/100\n",
            "347/347 [==============================] - 13s 38ms/step - loss: 8.6633e-04\n",
            "Epoch 45/100\n",
            "347/347 [==============================] - 13s 38ms/step - loss: 8.2791e-04\n",
            "Epoch 46/100\n",
            "347/347 [==============================] - 14s 40ms/step - loss: 7.6540e-04\n",
            "Epoch 47/100\n",
            "347/347 [==============================] - 13s 39ms/step - loss: 8.0169e-04\n",
            "Epoch 48/100\n",
            "347/347 [==============================] - 13s 39ms/step - loss: 7.9676e-04\n",
            "Epoch 49/100\n",
            "347/347 [==============================] - 13s 39ms/step - loss: 8.1813e-04\n",
            "Epoch 50/100\n",
            "347/347 [==============================] - 17s 49ms/step - loss: 8.5144e-04\n",
            "Epoch 51/100\n",
            "347/347 [==============================] - 14s 41ms/step - loss: 7.9886e-04\n",
            "Epoch 52/100\n",
            "347/347 [==============================] - 14s 40ms/step - loss: 7.1472e-04\n",
            "Epoch 53/100\n",
            "347/347 [==============================] - 14s 40ms/step - loss: 7.7118e-04\n",
            "Epoch 54/100\n",
            "347/347 [==============================] - 16s 45ms/step - loss: 7.1813e-04\n",
            "Epoch 55/100\n",
            "347/347 [==============================] - 13s 39ms/step - loss: 9.5878e-04\n",
            "Epoch 56/100\n",
            "347/347 [==============================] - 14s 40ms/step - loss: 6.9213e-04\n",
            "Epoch 57/100\n",
            "347/347 [==============================] - 14s 39ms/step - loss: 8.5373e-04\n",
            "Epoch 58/100\n",
            "347/347 [==============================] - 14s 39ms/step - loss: 6.8468e-04\n",
            "Epoch 59/100\n",
            "347/347 [==============================] - 14s 39ms/step - loss: 7.0805e-04\n",
            "Epoch 60/100\n",
            "347/347 [==============================] - 14s 40ms/step - loss: 7.3171e-04\n",
            "Epoch 61/100\n",
            "347/347 [==============================] - 14s 40ms/step - loss: 8.0880e-04\n",
            "Epoch 62/100\n",
            "347/347 [==============================] - 14s 40ms/step - loss: 7.6105e-04\n",
            "Epoch 63/100\n",
            "347/347 [==============================] - 14s 40ms/step - loss: 8.2091e-04\n",
            "Epoch 64/100\n",
            "347/347 [==============================] - 14s 41ms/step - loss: 8.3493e-04\n",
            "Epoch 65/100\n",
            "347/347 [==============================] - 14s 41ms/step - loss: 7.2796e-04\n",
            "Epoch 66/100\n",
            "347/347 [==============================] - 14s 40ms/step - loss: 7.1682e-04\n",
            "Epoch 67/100\n",
            "347/347 [==============================] - 14s 41ms/step - loss: 7.8617e-04\n",
            "Epoch 68/100\n",
            "347/347 [==============================] - 14s 42ms/step - loss: 7.3809e-04\n",
            "Epoch 69/100\n",
            "347/347 [==============================] - 14s 41ms/step - loss: 7.3366e-04\n",
            "Epoch 70/100\n",
            "347/347 [==============================] - 14s 39ms/step - loss: 7.5257e-04\n",
            "Epoch 71/100\n",
            "347/347 [==============================] - 14s 39ms/step - loss: 6.7637e-04\n",
            "Epoch 72/100\n",
            "347/347 [==============================] - 14s 39ms/step - loss: 7.9585e-04\n",
            "Epoch 73/100\n",
            "347/347 [==============================] - 14s 39ms/step - loss: 7.6180e-04\n",
            "Epoch 74/100\n",
            "347/347 [==============================] - 16s 46ms/step - loss: 7.1584e-04\n",
            "Epoch 75/100\n",
            "347/347 [==============================] - 14s 40ms/step - loss: 7.8986e-04\n",
            "Epoch 76/100\n",
            "347/347 [==============================] - 14s 40ms/step - loss: 7.4384e-04\n",
            "Epoch 77/100\n",
            "347/347 [==============================] - 14s 40ms/step - loss: 7.8927e-04\n",
            "Epoch 78/100\n",
            "347/347 [==============================] - 14s 40ms/step - loss: 6.8162e-04\n",
            "Epoch 79/100\n",
            "347/347 [==============================] - 14s 40ms/step - loss: 7.6715e-04\n",
            "Epoch 80/100\n",
            "347/347 [==============================] - 14s 39ms/step - loss: 7.4269e-04\n",
            "Epoch 81/100\n",
            "347/347 [==============================] - 13s 38ms/step - loss: 7.4693e-04\n",
            "Epoch 82/100\n",
            "347/347 [==============================] - 14s 39ms/step - loss: 7.7349e-04\n",
            "Epoch 83/100\n",
            "347/347 [==============================] - 14s 39ms/step - loss: 6.8866e-04\n",
            "Epoch 84/100\n",
            "347/347 [==============================] - 13s 38ms/step - loss: 6.9306e-04\n",
            "Epoch 85/100\n",
            "347/347 [==============================] - 13s 39ms/step - loss: 6.8606e-04\n",
            "Epoch 86/100\n",
            "347/347 [==============================] - 14s 39ms/step - loss: 7.5075e-04\n",
            "Epoch 87/100\n",
            "347/347 [==============================] - 13s 38ms/step - loss: 7.8018e-04\n",
            "Epoch 88/100\n",
            "347/347 [==============================] - 14s 40ms/step - loss: 7.0390e-04\n",
            "Epoch 89/100\n",
            "347/347 [==============================] - 14s 40ms/step - loss: 7.3345e-04\n",
            "Epoch 90/100\n",
            "347/347 [==============================] - 14s 39ms/step - loss: 7.3649e-04\n",
            "Epoch 91/100\n",
            "347/347 [==============================] - 14s 40ms/step - loss: 6.8691e-04\n",
            "Epoch 92/100\n",
            "347/347 [==============================] - 14s 39ms/step - loss: 6.2926e-04\n",
            "Epoch 93/100\n",
            "347/347 [==============================] - 13s 39ms/step - loss: 7.8109e-04\n",
            "Epoch 94/100\n",
            "347/347 [==============================] - 16s 45ms/step - loss: 6.6568e-04\n",
            "Epoch 95/100\n",
            "347/347 [==============================] - 14s 40ms/step - loss: 7.5393e-04\n",
            "Epoch 96/100\n",
            "347/347 [==============================] - 14s 40ms/step - loss: 6.7100e-04\n",
            "Epoch 97/100\n",
            "347/347 [==============================] - 13s 39ms/step - loss: 6.3718e-04\n",
            "Epoch 98/100\n",
            "347/347 [==============================] - 14s 39ms/step - loss: 7.8126e-04\n",
            "Epoch 99/100\n",
            "347/347 [==============================] - 14s 40ms/step - loss: 7.2761e-04\n",
            "Epoch 100/100\n",
            "347/347 [==============================] - 14s 42ms/step - loss: 6.8168e-04\n"
          ]
        },
        {
          "output_type": "execute_result",
          "data": {
            "text/plain": [
              "<keras.src.callbacks.History at 0x7fee72422890>"
            ]
          },
          "metadata": {},
          "execution_count": 40
        }
      ]
    },
    {
      "cell_type": "code",
      "source": [
        "real_price = test.loc[:, [\"Close\"]].values\n",
        "print(\"Real Price Shape --> \", real_price.shape)\n",
        "\n",
        "dataset_total = pd.concat((data[\"Close\"], test[\"Close\"]), axis = 0)\n",
        "inputs = dataset_total[len(dataset_total) - len(test) - timesteps:].values.reshape(-1,1)\n",
        "inputs = scaler.transform(inputs)\n",
        "\n",
        "endRange = real_price.shape[0]+50\n"
      ],
      "metadata": {
        "colab": {
          "base_uri": "https://localhost:8080/"
        },
        "id": "CjYtn-4V7hrY",
        "outputId": "8af4240d-5031-4efd-9378-bd8f5b4cabd1"
      },
      "execution_count": 41,
      "outputs": [
        {
          "output_type": "stream",
          "name": "stdout",
          "text": [
            "Real Price Shape -->  (1746, 1)\n"
          ]
        }
      ]
    },
    {
      "cell_type": "code",
      "source": [
        "X_test = []\n",
        "\n",
        "for i in range(timesteps, 1760):\n",
        "    X_test.append(inputs[i-timesteps:i, 0])\n",
        "\n",
        "#print(X_test)\n",
        "X_test = np.array(X_test)\n",
        "\n",
        "print(\"X_test shape --> \", X_test.shape)\n",
        "\n",
        "X_test = np.reshape(X_test, (X_test.shape[0], X_test.shape[1], 1))\n",
        "predict = regressor.predict(X_test)\n",
        "predict = scaler.inverse_transform(predict)"
      ],
      "metadata": {
        "colab": {
          "base_uri": "https://localhost:8080/"
        },
        "id": "ZPlmXWVr7y4l",
        "outputId": "d03f6fef-544b-450b-b6a1-3edc5ef45924"
      },
      "execution_count": 42,
      "outputs": [
        {
          "output_type": "stream",
          "name": "stdout",
          "text": [
            "X_test shape -->  (1720, 40)\n",
            "54/54 [==============================] - 1s 13ms/step\n"
          ]
        }
      ]
    },
    {
      "cell_type": "code",
      "source": [
        "import matplotlib.pyplot as plt\n",
        "plt.plot(real_price, color = \"red\", label = \"Real Stock Price\")\n",
        "plt.plot(predict, color = \"black\", label = \"Predict Stock Price\")\n",
        "plt.title(\"Stock Price Prediction\")\n",
        "plt.xlabel(\"Time\")\n",
        "plt.ylabel(\"Tesla Stock Price\")\n",
        "plt.legend()\n",
        "plt.show()"
      ],
      "metadata": {
        "colab": {
          "base_uri": "https://localhost:8080/",
          "height": 472
        },
        "id": "CAk6KuTH74-y",
        "outputId": "fc7a01fa-d182-4949-c2cd-4262104934a4"
      },
      "execution_count": 43,
      "outputs": [
        {
          "output_type": "display_data",
          "data": {
            "text/plain": [
              "<Figure size 640x480 with 1 Axes>"
            ],
            "image/png": "[encoded data removed]"
          },
          "metadata": {}
        }
      ]
    }
  ]
}