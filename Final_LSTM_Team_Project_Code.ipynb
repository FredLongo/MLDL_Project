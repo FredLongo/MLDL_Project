{
  "cells": [
    {
      "cell_type": "markdown",
      "metadata": {
        "id": "view-in-github",
        "colab_type": "text"
      },
      "source": [
        "<a href=\"https://colab.research.google.com/github/FredLongo/MLDL_Project/blob/main/Final_LSTM_Team_Project_Code.ipynb\" target=\"_parent\"><img src=\"https://colab.research.google.com/assets/colab-badge.svg\" alt=\"Open In Colab\"/></a>"
      ]
    },
    {
      "cell_type": "markdown",
      "id": "vIz4_ioqYQN_",
      "metadata": {
        "id": "vIz4_ioqYQN_"
      },
      "source": [
        "# LSTM Team Project\n",
        "## By changes parameter setting you create, train and predict an array of model to predict stocks.\n",
        "\n"
      ]
    },
    {
      "cell_type": "markdown",
      "id": "FCMMalsriAsj",
      "metadata": {
        "id": "FCMMalsriAsj"
      },
      "source": [
        "#Code Section"
      ]
    },
    {
      "cell_type": "code",
      "source": [
        "ls '/content/drive/MyDrive/Classes/Kent/Machine Learning/Results'"
      ],
      "metadata": {
        "id": "2fDx86KkNSJu"
      },
      "id": "2fDx86KkNSJu",
      "execution_count": null,
      "outputs": []
    },
    {
      "cell_type": "code",
      "execution_count": null,
      "id": "A2PubmmrukTS",
      "metadata": {
        "id": "A2PubmmrukTS"
      },
      "outputs": [],
      "source": [
        "pip install pandas_ta"
      ]
    },
    {
      "cell_type": "code",
      "execution_count": null,
      "id": "833RSq11sWaw",
      "metadata": {
        "id": "833RSq11sWaw"
      },
      "outputs": [],
      "source": [
        "import numpy as np\n",
        "import matplotlib.pyplot as plt\n",
        "import pandas as pd\n",
        "import yfinance as yf\n",
        "import pandas_ta as ta\n",
        "from sklearn.preprocessing import MinMaxScaler\n",
        "import warnings\n",
        "from datetime import datetime, timedelta\n",
        "\n",
        "\n",
        "\"\"\"#Now build the model\"\"\"\n",
        "from re import VERBOSE\n",
        "from keras.models import Sequential\n",
        "from keras.layers import LSTM\n",
        "from keras.layers import Dropout\n",
        "from keras.layers import Dense\n",
        "from keras.layers import TimeDistributed\n",
        "\n",
        "import tensorflow as tf\n",
        "import keras\n",
        "from keras import optimizers\n",
        "from keras.callbacks import History\n",
        "from keras.models import Model\n",
        "from keras.layers import Dense, Dropout, LSTM, Input, Activation, concatenate\n",
        "\n",
        "\"\"\" performance evaluation \"\"\"\n",
        "from sklearn.metrics import mean_squared_error\n",
        "from sklearn.metrics import mean_absolute_error\n",
        "import math\n",
        "import csv\n",
        "pd.set_option('display.max_columns', None)\n",
        "\n",
        "\n"
      ]
    },
    {
      "cell_type": "code",
      "execution_count": null,
      "id": "hK-eabRB3Jks",
      "metadata": {
        "id": "hK-eabRB3Jks"
      },
      "outputs": [],
      "source": [
        "class MyLSTMModel:\n",
        "    def __init__(self, indicators='^DJI',\n",
        "                 ticker='ADM',\n",
        "                 frame_days=10,\n",
        "                 lstm_layers = 1,\n",
        "                 start_date = '2012-03-11',\n",
        "                 end_date='2022-07-10',\n",
        "                 batch_size=15,\n",
        "                 epochs=30,\n",
        "                 run = False,\n",
        "                 run_all=False,\n",
        "                 verbose=1,\n",
        "                 name=''):\n",
        "        #Parameters\n",
        "        self.name           = name\n",
        "        self.indicators     = indicators\n",
        "        self.ticker         = ticker\n",
        "        self.run            = run\n",
        "        self.run_all        = run_all\n",
        "        #Data Setup\n",
        "        self.start_date     = start_date\n",
        "        self.end_date       = end_date\n",
        "        self.frame_days     = frame_days\n",
        "        self.ticker_list    = indicators + ',' +ticker\n",
        "        self.ticker_list_ct  = len(self.ticker_list.split(','))\n",
        "        self.tickers        = self.ticker_list.split(',')\n",
        "        self.data = pd.DataFrame()\n",
        "        #Model Setup\n",
        "        self.model          = None\n",
        "        self.lstm_layers    = lstm_layers\n",
        "        self.lstm_nodes     = 0\n",
        "        self.batch_size     = batch_size\n",
        "        self.epochs         = epochs\n",
        "        self.verbose        = verbose\n",
        "        #Report\n",
        "        self.pred_diff    = np.array([])\n",
        "        self.pred_diff_bias  = np.array([])\n",
        "        self.pred_correctness = np.array([])\n",
        "        self.pred_correctness_mean = np.array([])\n",
        "        self.history = np.array([])\n",
        "        self.fitting_elapse_time = None\n",
        "        self.root_mean_sqr_err = None\n",
        "        #Misc\n",
        "        self.data_set = pd.DataFrame()\n",
        "        self.data_set_scaled = np.array([])\n",
        "        self.X        = np.array([])              # X[Column][Sample][Frame_day]\n",
        "        self.X_train  = np.array([])\n",
        "        self.X_test   = np.array([])\n",
        "        self.y_train  = np.array([])\n",
        "        self.y_test   = np.array([])\n",
        "        self.y_pred   = np.array([])\n",
        "\n",
        "        if self.name == '':\n",
        "          self.name = ticker + '_F' + str(frame_days) + '_L' + str(lstm_layers)\n",
        "\n",
        "        if self.run or self.run_all:\n",
        "          self.Run()\n",
        "\n",
        "\n",
        "\n",
        "    def Data__LoadAndPrep(self):\n",
        "        #Download Data from Yahoo Finance\n",
        "        self.data = yf.download(tickers=self.tickers, start=self.start_date, end=self.end_date)\n",
        "\n",
        "        # Add all additional indicators\n",
        "        for (_type, _ticker) in self.data.columns:\n",
        "          if _type == 'Close':\n",
        "            rsi_values = ta.rsi(self.data[(_type, _ticker)], length=15)\n",
        "            self.data[('RSI', _ticker)] = rsi_values\n",
        "            emaf_values = ta.rsi(self.data[(_type, _ticker)], length=20)\n",
        "            self.data[('EMAF', _ticker)] = rsi_values\n",
        "            emam_values = ta.rsi(self.data[(_type, _ticker)], length=100)\n",
        "            self.data[('EMAM', _ticker)] = rsi_values\n",
        "            emas_values = ta.rsi(self.data[(_type, _ticker)], length=150)\n",
        "            self.data[('EMAS', _ticker)] = rsi_values\n",
        "\n",
        "        # Add the Training an validation column info.\n",
        "        self.data[('Target',self.ticker)] = self.data['Adj Close',self.ticker]-self.data['Open',self.ticker]                                # 1) Diff of current open and future close\n",
        "        self.data[('Target',self.ticker)] = self.data['Target',self.ticker].shift(-1)                                                       #\n",
        "        self.data[('TargetClass',self.ticker)] = [1 if self.data[('Target',self.ticker)][i]>0 else 0 for i in range(len(self.data))]        # 2) Classificaton approche 1= up 0 = down.\n",
        "        self.data[('TargetNextClose',self.ticker)] = self.data[('Adj Close',self.ticker)].shift(-1)                                         # 3) Closing Price of the next day\n",
        "\n",
        "        #Remove unused columns\n",
        "        self.data.dropna(inplace=True)                                                       # Dropping values not their\n",
        "        self.data.reset_index(inplace = True)                                                # rebuild index after removed values\n",
        "\n",
        "        with warnings.catch_warnings():\n",
        "          warnings.simplefilter(\"ignore\", category=pd.errors.PerformanceWarning)\n",
        "          self.data.drop([('Close', self.ticker)], axis=1, inplace=True)                       # Removing because we are going with Adjuested Close\n",
        "          self.data.drop(['Date'], axis=1, inplace=True)                                       # Removing unsued Columns  (R1)\n",
        "\n",
        "\n",
        "    def Data_Set__LoadAndPrep(self):\n",
        "        self.data_set = self.data.iloc[:,0:len(self.data.columns)]#.values\n",
        "        # Scale the dataset\n",
        "        sc = MinMaxScaler(feature_range=(0,1))             # Apply Scaler to oour data to make it between 0 and `\n",
        "        self.data_set_scaled = sc.fit_transform(self.data_set)\n",
        "\n",
        "\n",
        "    def Data_Prep_Input(self):\n",
        "        # Create frame of given candles\n",
        "        self.X = []\n",
        "\n",
        "        for j in range(len(self.data_set.columns) -1):#data_set_scaled[0].size):#2 columns are target not X         # Removing some of the columns  Adding volume\n",
        "            self.X.append([])\n",
        "            for i in range(self.frame_days, self.data_set_scaled.shape[0]):#framedays+2\n",
        "                self.X[j].append(self.data_set_scaled[i-self.frame_days:i, j])\n",
        "\n",
        "        #Swith Order, move axis from 0 to last position 2                               # Moves  X[Column][Sample][Frame_day]\n",
        "                                                                                        #   to   X[Sample][Frame_day][Column]\n",
        "        self.X = np.moveaxis( self.X, [0], [2])\n",
        "\n",
        "\n",
        "        # Choose -1 for last column, classification else -2...\n",
        "        self.X, yi =np.array(self.X), np.array(self.data_set_scaled[self.frame_days:,-1])\n",
        "        y=np.reshape(yi,(len(yi),1))\n",
        "\n",
        "        # split data into train test sets\n",
        "        splitlimit = int(len(self.X)*0.8)          #point to slit at\n",
        "        self.X_train, self.X_test = self.X[:splitlimit], self.X[splitlimit:]\n",
        "        self.y_train, self.y_test = y[:splitlimit], y[splitlimit:]\n",
        "\n",
        "        ############################################################\n",
        "        ##   Build Model\n",
        "        ############################################################\n",
        "    def Build_Model(self):\n",
        "        self.lstm_nodes = len(self.X[0][0])\n",
        "        lstm_input = Input(shape=(self.frame_days, self.lstm_nodes), name='lstm_input')      # Input layer\n",
        "        current_inputs = lstm_input  # first time needs to be input layer (lstm_input) after that (inputs)\n",
        "        for l in reversed(range(self.lstm_layers)):\n",
        "          layer_name = f'lstm_layer_{self.lstm_layers - l}'\n",
        "          if 0 != l:\n",
        "            inputs = LSTM(self.lstm_nodes, return_sequences=True, name=layer_name)(current_inputs)\n",
        "          else:\n",
        "            inputs = LSTM(self.lstm_nodes, name=layer_name)(current_inputs)\n",
        "          current_inputs = inputs\n",
        "        inputs = Dense(1, name='dense_layer')(inputs)                                          # One Dense Layer\n",
        "        output = Activation('linear', name='output')(inputs)                                   # Output layer\n",
        "        self.model = Model(inputs=lstm_input, outputs=output)                                  # declare model\n",
        "        adam = optimizers.Adam()                                                               # instanciate optimizer\n",
        "        self.model.compile(optimizer=adam, loss='mse', metrics=['mae'])\n",
        "#        print(f'Model Layers:')                      # Compile model\n",
        "#        for ml in self.model.layers:\n",
        "#            print(ml.name)\n",
        "\n",
        "    def Fit(self):\n",
        "        start_time = datetime.now()\n",
        "        print(f'___________{self.name}___________')\n",
        "        print(f'Start Time:{start_time}')\n",
        "        self.history = self.model.fit(x=self.X_train,\n",
        "                       y=self.y_train,\n",
        "                       batch_size=self.batch_size,\n",
        "                       epochs=self.epochs, #TODO Set back to 30\n",
        "                       shuffle=False,\n",
        "                       validation_data=(self.X_test, self.y_test),\n",
        "                       verbose=self.verbose)\n",
        "        end_time = datetime.now()\n",
        "        self.fitting_elapse_time = end_time - start_time\n",
        "        print(f'End Time:{end_time}')\n",
        "        print(f'Elapse Time:{self.fitting_elapse_time}')\n",
        "\n",
        "\n",
        "    def Predict(self):\n",
        "      self.y_pred = self.model.predict(self.X_test)\n",
        "\n",
        "        ############################################################\n",
        "        ### Evaluation and reports\n",
        "        ############################################################\n",
        "    def check_sign(self,number):\n",
        "        if number > 0:\n",
        "            return 1\n",
        "        elif number < 0:\n",
        "            return -1\n",
        "        else:\n",
        "            return 0\n",
        "\n",
        "\n",
        "    def calculate_aic(self,y_true, y_pred,n_params):\n",
        "\n",
        "        mse = mean_squared_error(y_true, y_pred)\n",
        "        n = len(y_true)\n",
        "        aic = n * np.log(mse) + 2 * n_params\n",
        "        return aic\n",
        "\n",
        "\n",
        "\n",
        "     # X_test = Open,\tHigh,\tLow,\tAdj Close,\tVolume,\tRSI\tEMAF,\tEMAM,\tEMAS,\n",
        "\n",
        "    def Get_diffs(self):\n",
        "        _size = self.y_test.shape[0]\n",
        "        self.pred_correctness   = np.zeros(_size)\n",
        "        self.pred_diff          = np.zeros(_size)\n",
        "        self.pred_diff_bias      = np.zeros(_size)\n",
        "\n",
        "        for i in range(_size):                                 # X[Sample][Frame_day][column]\n",
        "          Opening    =  self.X_test[i][0][(self.ticker_list_ct * 4) -1]                        # Opening column for ticker is always (ticker_count * 4 -1)\n",
        "          Actual     =  self.y_test[i]\n",
        "          Predicted  =  self.y_pred[i]\n",
        "          with warnings.catch_warnings():\n",
        "            warnings.simplefilter(\"ignore\", category=DeprecationWarning)\n",
        "            self.pred_diff[i]    = Predicted/Actual\n",
        "            self.pred_diff_bias[i]  = 1 - (Predicted/Actual)\n",
        "            if self.check_sign(Opening - Actual) == self.check_sign(Opening - Predicted):\n",
        "              self.pred_correctness[i] = True;                                  #It predicted Correct!\n",
        "            else: self.pred_correctness[i] = False;                             #It did predict correctly\n",
        "\n",
        "\n",
        "                #Mean Squre Error\n",
        "        self.mean_sqr_err =  mean_squared_error(self.y_test, self.y_pred)\n",
        "\n",
        "        # Mean absolute Error\n",
        "        self.mean_abs_err = mean_absolute_error(self.y_test, self.y_pred)\n",
        "\n",
        "        self.pred_correctness_mean = self.pred_correctness.mean()\n",
        "        self.pred_diff_mean = self.pred_diff.mean()\n",
        "        self.pred_diff_bias_mean  = self.pred_diff_bias.mean()\n",
        "\n",
        "        #AIC\n",
        "        self.aic = self.calculate_aic(self.y_test,self.y_pred,self.lstm_nodes)\n",
        "\n",
        "\n",
        "\n",
        "\n",
        "         # R^2    = ?????\n",
        "\n",
        "\n",
        "    def View_Performance_Report(self,show_graphs=True, show_report=True , graphs=[]):\n",
        "\n",
        "\n",
        "        # Root Mean Squred Error.\n",
        "        self.root_mean_sqr_err = math.sqrt(self.mean_sqr_err)\n",
        "        print(\"############################################################################\")\n",
        "        print(\"  Model Setup:\")\n",
        "        print(f\"                    Name: {self.name}\")\n",
        "        print(f\"             LSTM_Layers: {self.lstm_layers}\")\n",
        "        print(f\"              LSTM_Nodes: {self.lstm_nodes}\")\n",
        "        print(f\"               Bach_Size: {self.batch_size}\")\n",
        "        print(f\"                  Epochs: {self.epochs}\")\n",
        "        print(\"  Data Setup:\")\n",
        "        print(f\"                  Ticker: {self.ticker}\")\n",
        "        print(f\"             Indicattors: {self.indicators}\")\n",
        "        print(f\"              Start_Date: {self.start_date}\")\n",
        "        print(f\"                End_Date: {self.end_date}\")\n",
        "        print(f\"              Frame_Days: {self.frame_days}\")\n",
        "        print(\"  Result Data:\")\n",
        "        print(f'             mean_abs_err ={self.mean_abs_err}')\n",
        "        print(f'             mean_sqr_err ={self.mean_sqr_err}')\n",
        "        print(f'        root_mean_sqr_err ={self.root_mean_sqr_err}')\n",
        "        print(f'           pred_diff_mean ={self.pred_diff_mean}')\n",
        "        print(f'      pred_diff_bias_mean ={self.pred_diff_bias_mean}')\n",
        "        print(f'    pred_correctness_mean ={self.pred_correctness_mean}')\n",
        "        print(f'                      AIC ={self.aic}')\n",
        "\n",
        "        print(\"\")\n",
        "\n",
        "        #Plot Graph\n",
        "\n",
        "\n",
        "\n",
        "        if  ('Eval_Loss' in graphs) or (show_graphs == True) :  # ('Pie' in show_graphs:)\n",
        "\n",
        "          plt.figure(figsize=(12, 6))\n",
        "          plt.subplot(1, 2, 1)\n",
        "          plt.plot(self.history.history['mae'])\n",
        "          plt.plot(self.history.history['val_mae'])\n",
        "          plt.title('Evaluation Metric - Mean Absolute Error (MAE)')\n",
        "          plt.ylabel('MAE')\n",
        "          plt.xlabel('Epoch')\n",
        "          plt.legend(['Train', 'Validation'], loc='upper left')\n",
        "\n",
        "\n",
        "          # Plot training & validation loss values\n",
        "          plt.subplot(1, 2, 2)\n",
        "          plt.plot(self.history.history['loss'])\n",
        "          plt.plot(self.history.history['val_loss'])\n",
        "          plt.title('Model Loss - Mean Sqr Error (MSE) ')\n",
        "          plt.ylabel('Loss')\n",
        "          plt.xlabel('Epoch')\n",
        "          plt.legend(['Train', 'Validation'], loc='upper left')\n",
        "          plt.show()\n",
        "\n",
        "        if  ('TrainingMAE' in graphs) or (show_graphs == True) :\n",
        "          #####Break Down\n",
        "          plt.figure(figsize=(12, 6))\n",
        "\n",
        "          #plt.subplot(1, 1, 1)\n",
        "          plt.plot(self.history.history['mae'])\n",
        "          plt.title('Training Mean Absolute Error')\n",
        "          plt.ylabel('MAE')\n",
        "          plt.xlabel('Epoch')\n",
        "          plt.legend(['Train'], loc='upper left')\n",
        "          plt.show()\n",
        "\n",
        "\n",
        "        if  ('ActVsPed_Line' in graphs) or (show_graphs == True) :  # ('Pie' in show_graphs:)\n",
        "          # Actual vs Predicted Chart\n",
        "          plt.figure(figsize=(16,8))\n",
        "          plt.title('Actual Vs Prediction Results')\n",
        "          plt.plot(self.y_test, color = 'black', label = 'Test')\n",
        "          plt.plot(self.y_pred, color = 'green', label = 'pred')\n",
        "          plt.legend()\n",
        "          plt.show()\n",
        "\n",
        "        if  ('ActVsPed_Pie' in graphs) or (show_graphs == True) :  # ('Pie' in show_graphs:)\n",
        "          # Pie Chart\n",
        "          values = [self.pred_correctness_mean, 1 - self.pred_correctness_mean ]\n",
        "          labels = [f'Correctly Predicted {self.pred_correctness_mean:.2f}%', f'Incorrect{1 - self.pred_correctness_mean:.2f}%']\n",
        "          colors = ['g','r']\n",
        "          explode = [0.1, 0]\n",
        "          plt.title(f'Correct Prediction \" {self.pred_correctness_mean:.2f}%  \"of the time')\n",
        "          plt.pie(values, labels=labels, colors=colors, explode=explode)\n",
        "          plt.show\n",
        "\n",
        "\n",
        "\n",
        "\n",
        "    def Run(self):\n",
        "      self.Data__LoadAndPrep()\n",
        "      self.Data_Set__LoadAndPrep()\n",
        "      self.Data_Prep_Input()\n",
        "      self.Build_Model()\n",
        "      self.Fit()\n",
        "      self.Predict()\n",
        "      self.Get_diffs()\n",
        "      if self.run_all == True:\n",
        "        self.View_Performance_Report()\n",
        "\n",
        "\n",
        "\n",
        "\n",
        "\n",
        "\n",
        "\n"
      ]
    },
    {
      "cell_type": "code",
      "execution_count": null,
      "id": "JFu5R41llGap",
      "metadata": {
        "id": "JFu5R41llGap"
      },
      "outputs": [],
      "source": [
        "def SaveDataToCSV(_model_list,_ticker_symble):\n",
        "  # Specify the CSV file name\n",
        "  current_datetime = datetime.now().strftime(\"%Y%m%d_%H%M%S\")\n",
        "  filename = f'/content/drive/MyDrive/Classes/Kent/Machine Learning/Results/{_ticker_symble}_Results_{current_datetime}.csv'\n",
        "\n",
        "  # Field names in the CSV file\n",
        "  fields = ['ModelName',\n",
        "            'Layers',\n",
        "            'Batch_Size',\n",
        "            'Epoch',\n",
        "            'Ticker',\n",
        "            'Indicators',\n",
        "            'Frame_Days',\n",
        "            'mean_abs_err',\n",
        "            'mean_sqr_err',\n",
        "            'root_mean_sqr_err',\n",
        "            'pred_diff_mean',\n",
        "            'pred_diff_bias_mean',\n",
        "            'elapsTime',\n",
        "            'pred_correctness_mean',\n",
        "            'AIC']\n",
        "\n",
        "  # Writing to the csv file\n",
        "  with open(filename, mode='w', newline='') as file:\n",
        "      writer = csv.DictWriter(file, fieldnames=fields)\n",
        "\n",
        "      # Writing headers (field names)\n",
        "      writer.writeheader()\n",
        "\n",
        "      # Writing data of each object\n",
        "      for m in _model_list:\n",
        "          writer.writerow({'ModelName': m.name,\n",
        "                           'Layers':m.lstm_layers,\n",
        "                           'Batch_Size': m.batch_size,\n",
        "                           'Epoch':m.epochs,\n",
        "                           'Ticker':m.ticker,\n",
        "                           'Indicators':m.indicators,\n",
        "                           'Frame_Days':m.frame_days,\n",
        "                           'mean_abs_err':m.mean_abs_err,\n",
        "                           'mean_sqr_err':m.mean_sqr_err,\n",
        "                           'root_mean_sqr_err':m.root_mean_sqr_err,\n",
        "                           'pred_diff_mean':m.pred_diff_mean,\n",
        "                           'pred_diff_bias_mean':m.pred_diff_bias_mean,\n",
        "                           \"elapsTime\":m.fitting_elapse_time,\n",
        "                           \"pred_correctness_mean\":m.pred_correctness_mean,\n",
        "                           \"AIC\":m.aic\n",
        "                            })\n",
        "\n",
        "\n",
        "# Get Fields\n",
        "\n",
        "\n",
        "\n",
        "\n",
        "\n",
        "\n"
      ]
    },
    {
      "cell_type": "markdown",
      "id": "Tz7B88pbikM2",
      "metadata": {
        "id": "Tz7B88pbikM2"
      },
      "source": [
        "# Model Fit Section"
      ]
    },
    {
      "cell_type": "markdown",
      "id": "Wn59Xke9noQq",
      "metadata": {
        "id": "Wn59Xke9noQq"
      },
      "source": [
        "# Model Training"
      ]
    },
    {
      "cell_type": "code",
      "source": [
        "Indicators    = '^DJI,^BSESN,^BVSP'\n",
        "#Ticker = ['ADM','MSI','XOM']\n",
        "#frame_days = [10,25,50,75,100]\n",
        "#LSTM_layers = [1,2,3,4,5]\n",
        "\n",
        "\n",
        "#AMD\n",
        "Ticker = ['MSI']\n",
        "frame_days = [100]\n",
        "LSTM_layers = [1,2,3,4,5]\n",
        "\n",
        "\n",
        "\n",
        "Number_of_Models_to_Test = len(Ticker) * len(frame_days) *  len(LSTM_layers)\n",
        "\n",
        "print(f'Testing {Number_of_Models_to_Test} models')\n"
      ],
      "metadata": {
        "id": "Xmps7Zne2SK9"
      },
      "id": "Xmps7Zne2SK9",
      "execution_count": null,
      "outputs": []
    },
    {
      "cell_type": "code",
      "source": [],
      "metadata": {
        "id": "5mZZhb25gCub"
      },
      "id": "5mZZhb25gCub",
      "execution_count": null,
      "outputs": []
    },
    {
      "cell_type": "code",
      "execution_count": null,
      "id": "cJ8DkhAruDXY",
      "metadata": {
        "id": "cJ8DkhAruDXY"
      },
      "outputs": [],
      "source": [
        "\n",
        "\n",
        "for t in Ticker:\n",
        "  model_list = []\n",
        "  for f in frame_days:\n",
        "    for l in LSTM_layers:\n",
        "      new_model = MyLSTMModel(indicators= Indicators,\n",
        "                              ticker=t,\n",
        "                              frame_days=f,\n",
        "                              lstm_layers=l,\n",
        "                              verbose=2,\n",
        "                              run=True)\n",
        "      model_list.append(new_model)\n",
        "\n",
        "  #Best_Model = max(model_list, key=lambda m:m.pred_diff_mean)\n",
        "  #print(f\"Best Model is {Best_Model.name} with {Best_Model.pred_diff_mean:.2f}%  !!!\")\n",
        "  SaveDataToCSV(model_list,t)\n",
        "\n"
      ]
    },
    {
      "cell_type": "code",
      "source": [
        "  #SaveDataToCSV(model_list,'ADM')"
      ],
      "metadata": {
        "id": "8_N6UicxnuZK"
      },
      "id": "8_N6UicxnuZK",
      "execution_count": null,
      "outputs": []
    },
    {
      "cell_type": "code",
      "source": [],
      "metadata": {
        "id": "vpqaHXnsnuKa"
      },
      "id": "vpqaHXnsnuKa",
      "execution_count": null,
      "outputs": []
    },
    {
      "cell_type": "code",
      "source": [],
      "metadata": {
        "id": "yQOhv0tvnuHC"
      },
      "id": "yQOhv0tvnuHC",
      "execution_count": null,
      "outputs": []
    },
    {
      "cell_type": "markdown",
      "source": [
        "\n",
        "\n",
        "\n"
      ],
      "metadata": {
        "id": "IgHnDA_xnlPj"
      },
      "id": "IgHnDA_xnlPj"
    },
    {
      "cell_type": "markdown",
      "id": "T6ruNrS7iJTy",
      "metadata": {
        "id": "T6ruNrS7iJTy"
      },
      "source": [
        "# Report Section"
      ]
    },
    {
      "cell_type": "code",
      "execution_count": null,
      "id": "M2ciUrNkvTgC",
      "metadata": {
        "id": "M2ciUrNkvTgC"
      },
      "outputs": [],
      "source": [
        "for m in model_list:\n",
        "  m.View_Performance_Report(show_graphs=False)\n",
        "\n",
        "\n"
      ]
    },
    {
      "cell_type": "code",
      "execution_count": null,
      "id": "GZN2ddXj2zkG",
      "metadata": {
        "id": "GZN2ddXj2zkG"
      },
      "outputs": [],
      "source": [
        "for m in model_list:\n",
        "  m.View_Performance_Report(show_graphs=True)\n"
      ]
    },
    {
      "cell_type": "markdown",
      "id": "XEN4vHIavZGU",
      "metadata": {
        "id": "XEN4vHIavZGU"
      },
      "source": [
        "#Save Data\n",
        "##Save Data to Drive"
      ]
    },
    {
      "cell_type": "code",
      "execution_count": null,
      "id": "ILblIVNQxtMb",
      "metadata": {
        "id": "ILblIVNQxtMb"
      },
      "outputs": [],
      "source": [
        "#_ls '/content/drive/MyDrive/Classes/Kent/Machine Learning/Results'"
      ]
    },
    {
      "cell_type": "markdown",
      "id": "U9ucsJajvm6b",
      "metadata": {
        "id": "U9ucsJajvm6b"
      },
      "source": [
        "##Save Best Model to drive"
      ]
    },
    {
      "cell_type": "code",
      "execution_count": null,
      "id": "uVoVQt0C2cJ7",
      "metadata": {
        "id": "uVoVQt0C2cJ7"
      },
      "outputs": [],
      "source": []
    }
  ],
  "metadata": {
    "colab": {
      "provenance": [],
      "include_colab_link": true
    },
    "kernelspec": {
      "display_name": "Python 3 (ipykernel)",
      "language": "python",
      "name": "python3"
    },
    "language_info": {
      "codemirror_mode": {
        "name": "ipython",
        "version": 3
      },
      "file_extension": ".py",
      "mimetype": "text/x-python",
      "name": "python",
      "nbconvert_exporter": "python",
      "pygments_lexer": "ipython3",
      "version": "3.7.3"
    }
  },
  "nbformat": 4,
  "nbformat_minor": 5
}